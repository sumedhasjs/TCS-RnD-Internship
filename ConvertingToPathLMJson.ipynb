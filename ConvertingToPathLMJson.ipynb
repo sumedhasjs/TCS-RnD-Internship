{
  "nbformat": 4,
  "nbformat_minor": 0,
  "metadata": {
    "colab": {
      "name": "ConvertingToPathLMJson.ipynb",
      "provenance": [],
      "collapsed_sections": []
    },
    "kernelspec": {
      "name": "python3",
      "display_name": "Python 3"
    },
    "language_info": {
      "name": "python"
    }
  },
  "cells": [
    {
      "cell_type": "code",
      "execution_count": null,
      "metadata": {
        "colab": {
          "base_uri": "https://localhost:8080/"
        },
        "id": "oGmITZF54IQi",
        "outputId": "d44a61ae-b62a-4084-f5a8-3e5c9849b589"
      },
      "outputs": [
        {
          "output_type": "stream",
          "name": "stdout",
          "text": [
            "Mounted at /content/gdrive\n"
          ]
        }
      ],
      "source": [
        "from google.colab import drive\n",
        "drive.mount('/content/gdrive')"
      ]
    },
    {
      "cell_type": "code",
      "source": [
        "directory='/content/gdrive/Othercomputers/My Laptop/TCS/output'"
      ],
      "metadata": {
        "id": "WOQccKo54M5P"
      },
      "execution_count": null,
      "outputs": []
    },
    {
      "cell_type": "code",
      "source": [
        "import os"
      ],
      "metadata": {
        "id": "42ECKBp64Xze"
      },
      "execution_count": null,
      "outputs": []
    },
    {
      "cell_type": "code",
      "source": [
        "!pip install transformers"
      ],
      "metadata": {
        "colab": {
          "base_uri": "https://localhost:8080/"
        },
        "id": "dpsArCRoBuOL",
        "outputId": "e652b586-2312-43d7-dd6e-539dcf5ef146"
      },
      "execution_count": null,
      "outputs": [
        {
          "output_type": "stream",
          "name": "stdout",
          "text": [
            "Looking in indexes: https://pypi.org/simple, https://us-python.pkg.dev/colab-wheels/public/simple/\n",
            "Requirement already satisfied: transformers in /usr/local/lib/python3.7/dist-packages (4.20.1)\n",
            "Requirement already satisfied: huggingface-hub<1.0,>=0.1.0 in /usr/local/lib/python3.7/dist-packages (from transformers) (0.8.1)\n",
            "Requirement already satisfied: numpy>=1.17 in /usr/local/lib/python3.7/dist-packages (from transformers) (1.21.6)\n",
            "Requirement already satisfied: importlib-metadata in /usr/local/lib/python3.7/dist-packages (from transformers) (4.12.0)\n",
            "Requirement already satisfied: tokenizers!=0.11.3,<0.13,>=0.11.1 in /usr/local/lib/python3.7/dist-packages (from transformers) (0.12.1)\n",
            "Requirement already satisfied: regex!=2019.12.17 in /usr/local/lib/python3.7/dist-packages (from transformers) (2022.6.2)\n",
            "Requirement already satisfied: pyyaml>=5.1 in /usr/local/lib/python3.7/dist-packages (from transformers) (6.0)\n",
            "Requirement already satisfied: packaging>=20.0 in /usr/local/lib/python3.7/dist-packages (from transformers) (21.3)\n",
            "Requirement already satisfied: filelock in /usr/local/lib/python3.7/dist-packages (from transformers) (3.7.1)\n",
            "Requirement already satisfied: requests in /usr/local/lib/python3.7/dist-packages (from transformers) (2.23.0)\n",
            "Requirement already satisfied: tqdm>=4.27 in /usr/local/lib/python3.7/dist-packages (from transformers) (4.64.0)\n",
            "Requirement already satisfied: typing-extensions>=3.7.4.3 in /usr/local/lib/python3.7/dist-packages (from huggingface-hub<1.0,>=0.1.0->transformers) (4.1.1)\n",
            "Requirement already satisfied: pyparsing!=3.0.5,>=2.0.2 in /usr/local/lib/python3.7/dist-packages (from packaging>=20.0->transformers) (3.0.9)\n",
            "Requirement already satisfied: zipp>=0.5 in /usr/local/lib/python3.7/dist-packages (from importlib-metadata->transformers) (3.8.0)\n",
            "Requirement already satisfied: urllib3!=1.25.0,!=1.25.1,<1.26,>=1.21.1 in /usr/local/lib/python3.7/dist-packages (from requests->transformers) (1.24.3)\n",
            "Requirement already satisfied: certifi>=2017.4.17 in /usr/local/lib/python3.7/dist-packages (from requests->transformers) (2022.6.15)\n",
            "Requirement already satisfied: chardet<4,>=3.0.2 in /usr/local/lib/python3.7/dist-packages (from requests->transformers) (3.0.4)\n",
            "Requirement already satisfied: idna<3,>=2.5 in /usr/local/lib/python3.7/dist-packages (from requests->transformers) (2.10)\n"
          ]
        }
      ]
    },
    {
      "cell_type": "code",
      "source": [
        "import json\n",
        "from collections import OrderedDict\n",
        "from nltk.tokenize.treebank import TreebankWordDetokenizer\n",
        "from transformers import BertTokenizer, BertModel"
      ],
      "metadata": {
        "id": "zEXf9SJ8YQGj"
      },
      "execution_count": null,
      "outputs": []
    },
    {
      "cell_type": "code",
      "source": [
        "for doc in os.listdir(directory):\n",
        "  path=directory+'/'+doc\n",
        "  file=open(path,'r',encoding='cp1252')\n",
        "  flag1=0\n",
        "  json_lt=list()\n",
        "  entitylinking_lt=list()\n",
        "  for line in file:\n",
        "    flag1=flag1+1\n",
        "    data = json.JSONDecoder(object_pairs_hook=OrderedDict).decode(line)\n",
        "    ans=OrderedDict()\n",
        "\n",
        "    ans['doc_id']=data['doc_id']\n",
        "\n",
        "    ans['sent_id']=data['sent_id']\n",
        "\n",
        "    ans['tokens']=data['tokens']\n",
        "\n",
        "    line=TreebankWordDetokenizer().detokenize(data['tokens'])\n",
        "    tokenizer = BertTokenizer.from_pretrained(\"bert-base-uncased\")\n",
        "    pieces= tokenizer.tokenize(line)\n",
        "    ans['pieces']=pieces\n",
        "\n",
        "    token_lens=list()\n",
        "    temp=[]\n",
        "    for word in data['tokens']:  \n",
        "      temp=tokenizer.tokenize(word)\n",
        "      token_lens.append(len(temp))\n",
        "    ans['token_lens']=token_lens\n",
        "\n",
        "    ans['sentence']=line\n",
        "\n",
        "    entity_mentions=list()\n",
        "    flag2=0\n",
        "    for entity_lt in data['graph']['entities']:\n",
        "      flag2=flag2+1\n",
        "      entity=OrderedDict()\n",
        "      entity['id']=data['doc_id']+'-E'+str(flag1)+'-'+str(flag2)\n",
        "      entity['text']=data['tokens'][entity_lt[0]]\n",
        "      entity['entity_type']=entity_lt[2]\n",
        "      entity['mention_type']=entity_lt[3]\n",
        "      entity['start']=entity_lt[0]\n",
        "      entity['end']=entity_lt[1]\n",
        "      entity_mentions.append(entity)\n",
        "      tab=entity['text']+\"\\t\"+str(entity['id'])+\"\\t\"+str(entity['start'])+'\\t'+str(entity['end'])+'\\t'+'NIL'+'\\t'+entity['entity_type']+'\\t'+entity['mention_type']\n",
        "      entitylinking_lt.append(tab)\n",
        "    ans['entity_mentions']=entity_mentions\n",
        "    \n",
        "    \n",
        "\n",
        "    relation_mentions=list()\n",
        "    flag3=0\n",
        "    for relation_lt in data['graph']['relations']:\n",
        "      flag3=flag3+1\n",
        "      relation=OrderedDict()\n",
        "      relation['id']=data['doc_id']+'-R'+str(flag1)+'-'+str(flag3)\n",
        "      relation['relation_type']=relation_lt[2]\n",
        "      r_arguments=list()\n",
        "      arg1=OrderedDict()\n",
        "      arg1['entity_id']=entity_mentions[relation_lt[0]]['id']\n",
        "      arg1['text']=entity_mentions[relation_lt[0]]['text']\n",
        "      arg1['role']='Arg-1'\n",
        "      r_arguments.append(arg1)\n",
        "\n",
        "      arg2=OrderedDict()\n",
        "      arg2['entity_id']=entity_mentions[relation_lt[1]]['id']\n",
        "      arg2['text']=entity_mentions[relation_lt[1]]['text']\n",
        "      arg2['role']='Arg-2'\n",
        "      r_arguments.append(arg2)\n",
        "\n",
        "      relation['arguments']=r_arguments\n",
        "      relation_mentions.append(relation)\n",
        "\n",
        "    ans['relation_mentions']=relation_mentions\n",
        "\n",
        "      \n",
        "    \n",
        "\n",
        "    event_mentions=list()\n",
        "    flag4=0\n",
        "    for trigger_lt in data['graph']['triggers']:\n",
        "      event=OrderedDict()\n",
        "      event['id']=data['doc_id']+'-EV'+str(flag1)+'-'+str(flag4)\n",
        "      event['event_type']=trigger_lt[2]\n",
        "      trigger=OrderedDict()\n",
        "      trigger['text']=data['tokens'][trigger_lt[0]]\n",
        "      trigger['start']=trigger_lt[0]\n",
        "      trigger['end']=trigger_lt[1]\n",
        "      event['trigger']=trigger\n",
        "      e_arguments=list()\n",
        "      for roles in data['graph']['roles']:\n",
        "        if(roles[0]==data['graph']['triggers'].index(trigger_lt)):\n",
        "          arg=OrderedDict()\n",
        "          arg['entity_id']=entity_mentions[roles[1]]['id']\n",
        "          arg['text']=entity_mentions[roles[1]]['text']\n",
        "          arg['role']=roles[2]\n",
        "          e_arguments.append(arg)\n",
        "\n",
        "      event['arguments']=e_arguments\n",
        "      event_mentions.append(event)\n",
        "    ans['event_mentions']=event_mentions\n",
        "\n",
        "    #print(data['graph']['triggers'].index(trigger_lt))\n",
        "    #print(ans)\n",
        "    import json\n",
        "    json_object = json.dumps(ans) \n",
        "    json_lt.append(json_object)\n",
        "    json_str=\"\\n\".join(json_lt)\n",
        "    output_path='/content/gdrive/Othercomputers/My Laptop/TCS/input_pathlm/'\n",
        "    path=doc.split('.txt')[0]\n",
        "    temp=output_path+path\n",
        "    if flag1==1:\n",
        "      os.mkdir(temp)\n",
        "    doc=doc.split('.txt')[0]\n",
        "    file_path=temp+'/'+doc+'-'+str(flag1)+'.json'    \n",
        "    with open(file_path, \"w\") as outfile:\n",
        "      outfile.write(json_object)\n",
        "\n",
        "  output_path='/content/gdrive/Othercomputers/My Laptop/TCS/pathlm_input/'\n",
        "  doc=doc.split('.txt')[0]\n",
        "  file_path=output_path+doc+'.json'\n",
        "  json_str=\"\\n\".join(json_lt)\n",
        "  with open(file_path, \"w\") as outfile:\n",
        "    outfile.write(json_str)\n",
        "\n",
        "  output_path='/content/gdrive/Othercomputers/My Laptop/TCS/ent_link_tab/'\n",
        "  doc=doc.split('.txt')[0]\n",
        "  print(doc)\n",
        "  doc=doc+'.tab'\n",
        "  file_path_ent=output_path+doc\n",
        "  line=\"\\n\".join(entitylinking_lt)\n",
        "  with open(file_path_ent, \"w\") as outfile:\n",
        "    outfile.write(line)\n",
        "    \n",
        " \n",
        "\n",
        "    \n",
        "\n",
        "\n",
        "\n",
        "  "
      ],
      "metadata": {
        "id": "dBWlfCr25INx",
        "colab": {
          "base_uri": "https://localhost:8080/"
        },
        "outputId": "841ee1ac-acbc-4751-f5c2-0530c5569fcf"
      },
      "execution_count": null,
      "outputs": [
        {
          "output_type": "stream",
          "name": "stdout",
          "text": [
            "article-10901\n",
            "article-1126\n",
            "article-11554\n",
            "article-11638\n",
            "article-11816\n",
            "article-12028\n",
            "article-12070\n",
            "article-12556\n",
            "article-12820\n",
            "article-12944\n",
            "article-12989\n",
            "article-13218\n",
            "article-13092\n",
            "article-13231\n",
            "article-13245\n",
            "article-13267\n",
            "article-13596\n",
            "article-13494\n",
            "article-14155\n",
            "article-13886\n",
            "article-14409\n",
            "article-14993\n",
            "article-14969\n",
            "article-14501\n",
            "article-15032\n",
            "article-1526\n",
            "article-1542\n",
            "article-15391\n",
            "article-15473\n",
            "article-15590\n",
            "article-15679\n",
            "article-15708\n",
            "article-15808\n",
            "article-15885\n",
            "article-15859\n",
            "article-15844\n",
            "article-15897\n",
            "article-15792\n",
            "article-16032\n",
            "article-16049\n",
            "article-16056\n",
            "article-16068\n",
            "article-16381\n",
            "article-1651\n",
            "article-16735\n",
            "article-16765\n",
            "article-16742\n",
            "article-16788\n",
            "article-17007\n",
            "article-17093\n",
            "article-17016\n",
            "article-17170\n",
            "article-17177\n",
            "article-17213\n",
            "article-17403\n",
            "article-17803\n",
            "article-17961\n",
            "article-17978\n",
            "article-18043\n",
            "article-18339\n",
            "article-1864\n",
            "article-1857\n",
            "article-1896\n",
            "article-19380\n",
            "article-19388\n",
            "article-19454\n",
            "article-19628\n",
            "article-19597\n",
            "article-19927\n",
            "article-20009\n",
            "article-2001\n",
            "article-20013\n",
            "article-2002\n",
            "article-20401\n",
            "article-20575\n",
            "article-20480\n",
            "article-20579\n",
            "article-20596\n",
            "article-21224\n",
            "article-2124\n",
            "article-21273\n",
            "article-2209\n",
            "article-2312\n",
            "article-23245\n",
            "article-23340\n",
            "article-24804\n",
            "article-2482\n",
            "article-24830\n",
            "article-2491\n",
            "article-25856\n",
            "article-25922\n",
            "article-2754\n",
            "article-3160\n",
            "article-2908\n",
            "article-3290\n",
            "article-3291\n",
            "article-3595\n",
            "article-3736\n",
            "article-3903\n",
            "article-4104\n"
          ]
        }
      ]
    },
    {
      "cell_type": "code",
      "source": [
        ""
      ],
      "metadata": {
        "id": "O8HSXZ_zmQkH"
      },
      "execution_count": null,
      "outputs": []
    }
  ]
}